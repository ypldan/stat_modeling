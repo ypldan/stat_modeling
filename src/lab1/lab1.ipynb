{
 "cells": [
  {
   "cell_type": "markdown",
   "metadata": {},
   "source": [
    "а) Осуществить моделирование n = 1000 реализаций БСВ с помощью мультипликативного\n",
    "конгруэнтного метода (МКМ) с параметрами a 0 = a 01 , β = max{c 1 , M – c 1 },\n",
    "M = 2 31 и вывести 100-ый, 900-ый и 1000-ый элементы сгенерированной последовательности.\n",
    "\n",
    "б) Осуществить моделирование n = 1000 реализаций БСВ с помощью метода\n",
    "Макларена-Марсальи, используя в качестве простейших датчиков БСВ датчики D 1 –\n",
    "датчик из первого задания, D 2 – датчик по методу МКМ с параметрами a 0 = a 02 ,\n",
    "β = max{c 2 , M – c 2 }, M = 2 31 , K – объем вспомогательной таблицы и вывести\n",
    "100-ый, 900-ый и 1000-ый элементы сгенерированной последовательности.\n",
    "\n",
    "в) Проверить точность моделировнаия обоиз датчиков с помощью критерия согласия Колмогорова и чи-квадрат критерия Пирсона с уровнем значимости e=0.05"
   ]
  },
  {
   "cell_type": "code",
   "execution_count": 14,
   "metadata": {},
   "outputs": [],
   "source": [
    "from typing import List\n",
    "from bisect import bisect_right\n",
    "import numpy as np"
   ]
  },
  {
   "cell_type": "code",
   "execution_count": 15,
   "metadata": {},
   "outputs": [],
   "source": [
    "# 16 варыянт\n",
    "M = 2 ** 31\n",
    "n = 10 ** 3\n",
    "a01 = 80202397\n",
    "c1 = 264561431\n",
    "b1 = max(c1, M - c1)\n",
    "a02 = 289809159\n",
    "c2 = 90281719\n",
    "b2 = max(c2, M - c2)\n",
    "K = 128"
   ]
  },
  {
   "cell_type": "code",
   "execution_count": 16,
   "metadata": {},
   "outputs": [],
   "source": [
    "def mpcm(n: int, a0: int, b: int, M: int):\n",
    "    a = a0\n",
    "    for i in range(n):\n",
    "        a = (b * a) % M\n",
    "        yield a / M\n",
    "\n",
    "def mcl_mrsl(n: int, b: List[int], c: List[int], k: int):\n",
    "    v = b[:k]\n",
    "    for i in range(n):\n",
    "        s = int(c[i] * k)\n",
    "        yield v[s]\n",
    "        v[s] = b[i + k]"
   ]
  },
  {
   "cell_type": "code",
   "execution_count": 17,
   "metadata": {},
   "outputs": [
    {
     "name": "stdout",
     "output_type": "stream",
     "text": [
      "mpcm:\n",
      "1st: 0.1733270757831633, 15th: 0.6222331621684134, \n",
      "mean:0.4919283538429291, std:0.2918025937829086\n",
      "mcl_mrsl:\n",
      "1st: 0.7692250036634505, 15th: 0.8472271435894072, \n",
      "mean:0.49168137151002883, std:0.29206808132248546\n"
     ]
    }
   ],
   "source": [
    "test01 = list(mpcm(n + K, a01, b1, M))\n",
    "test02 = list(mpcm(n + K, a02, b2, M))\n",
    "test2 = list(mcl_mrsl(n, test01, test02, K))\n",
    "print(f'mpcm:\\n1st: {test01[0]}, 15th: {test01[14]}, \\nmean:{np.mean(test01)}, std:{np.std(test01)}')\n",
    "print(f'mcl_mrsl:\\n1st: {test2[0]}, 15th: {test2[14]}, \\nmean:{np.mean(test2)}, std:{np.std(test2)}')"
   ]
  },
  {
   "cell_type": "code",
   "execution_count": 18,
   "metadata": {},
   "outputs": [],
   "source": [
    "def sort_and_count(n, rand_seq):\n",
    "    seq = sorted(rand_seq, key=float)\n",
    "    size = len(seq)\n",
    "    segment_size = int(size / n)\n",
    "    probability = 1 / n\n",
    "    frequencies = []\n",
    "    j = 0\n",
    "    for i in range(n):\n",
    "        count = 0    \n",
    "        while j < size and seq[j] < (i + 1) / n:\n",
    "            j += 1\n",
    "            count += 1\n",
    "        frequencies.append(count)\n",
    "    return frequencies, segment_size, probability\n",
    "\n",
    "def chi_square(frequencies, size, probability, delta):\n",
    "    chi = 0\n",
    "    for frequency in frequencies:\n",
    "        chi += (frequency - probability * size) ** 2 / (probability * size)\n",
    "    print('chi-square : {}, delta : {}'.format(chi, delta))\n",
    "    \n",
    "    return chi < delta"
   ]
  },
  {
   "cell_type": "code",
   "execution_count": 19,
   "metadata": {},
   "outputs": [
    {
     "name": "stdout",
     "output_type": "stream",
     "text": [
      "frequencies : [133, 104, 121, 108, 104, 114, 116, 99, 111, 118]\n",
      "segment size : 112\n",
      "probability : 0.1\n",
      "chi-square : 7.851063829787233, delta : 16.919\n"
     ]
    },
    {
     "data": {
      "text/plain": [
       "True"
      ]
     },
     "execution_count": 19,
     "metadata": {},
     "output_type": "execute_result"
    }
   ],
   "source": [
    "delta_10_005 = 16.919\n",
    "delta_40_005 = 54.572\n",
    "k = 10\n",
    "frequencies, segment_size, probability = sort_and_count(k, test01)\n",
    "print('frequencies : {}'.format(frequencies))\n",
    "print('segment size : {}'.format(segment_size))\n",
    "print('probability : {}'.format(probability))\n",
    "chi_square(frequencies, len(test01), probability, delta_10_005)"
   ]
  },
  {
   "cell_type": "code",
   "execution_count": 20,
   "metadata": {},
   "outputs": [
    {
     "name": "stdout",
     "output_type": "stream",
     "text": [
      "frequencies : [122, 89, 106, 93, 93, 103, 105, 90, 92, 107]\n",
      "segment size : 100\n",
      "probability : 0.1\n",
      "chi-square : 9.860000000000001, delta : 16.919\n"
     ]
    },
    {
     "data": {
      "text/plain": [
       "True"
      ]
     },
     "execution_count": 20,
     "metadata": {},
     "output_type": "execute_result"
    }
   ],
   "source": [
    "frequencies, segment_size, probability = sort_and_count(k, test2)\n",
    "print('frequencies : {}'.format(frequencies))\n",
    "print('segment size : {}'.format(segment_size))\n",
    "print('probability : {}'.format(probability))\n",
    "chi_square(frequencies, len(test2), probability, delta_10_005)"
   ]
  },
  {
   "cell_type": "code",
   "execution_count": 26,
   "metadata": {},
   "outputs": [],
   "source": [
    "def kalmahorau(data):\n",
    "    delta = 1.358\n",
    "    n = len(data)\n",
    "    empirical = np.sort(data)\n",
    "    theoretical = np.arange(n) / n\n",
    "    diff = np.max(np.abs(empirical - theoretical))\n",
    "    value = diff * np.sqrt(n)\n",
    "    print('kalmahorau : {}, delta : {}'.format(value, delta))\n",
    "    return value < delta"
   ]
  },
  {
   "cell_type": "code",
   "execution_count": 27,
   "metadata": {},
   "outputs": [
    {
     "name": "stdout",
     "output_type": "stream",
     "text": [
      "kalmahorau : 0.8733757600668444, delta : 1.358\n"
     ]
    },
    {
     "data": {
      "text/plain": [
       "True"
      ]
     },
     "execution_count": 27,
     "metadata": {},
     "output_type": "execute_result"
    }
   ],
   "source": [
    "kalmahorau(test01)"
   ]
  },
  {
   "cell_type": "code",
   "execution_count": 28,
   "metadata": {},
   "outputs": [
    {
     "name": "stdout",
     "output_type": "stream",
     "text": [
      "kalmahorau : 0.7756433530708249, delta : 1.358\n"
     ]
    },
    {
     "data": {
      "text/plain": [
       "True"
      ]
     },
     "execution_count": 28,
     "metadata": {},
     "output_type": "execute_result"
    }
   ],
   "source": [
    "kalmahorau(test2)"
   ]
  }
 ],
 "metadata": {
  "kernelspec": {
   "display_name": "Python 3",
   "language": "python",
   "name": "python3"
  },
  "language_info": {
   "codemirror_mode": {
    "name": "ipython",
    "version": 3
   },
   "file_extension": ".py",
   "mimetype": "text/x-python",
   "name": "python",
   "nbconvert_exporter": "python",
   "pygments_lexer": "ipython3",
   "version": "3.6.8"
  }
 },
 "nbformat": 4,
 "nbformat_minor": 2
}
