{
 "cells": [
  {
   "cell_type": "code",
   "execution_count": 54,
   "metadata": {},
   "outputs": [],
   "source": [
    "import numpy as np\n",
    "from numpy.linalg import solve, eigvals, det\n",
    "from random import random\n",
    "from matplotlib import pylab as plt"
   ]
  },
  {
   "cell_type": "code",
   "execution_count": 46,
   "metadata": {},
   "outputs": [],
   "source": [
    "A = np.array([\n",
    "    [0.7, -0.2, 0.3],\n",
    "    [0.4,  1.3, 0.1],\n",
    "    [0.2,  0.1, 1.1]\n",
    "])\n",
    "F = np.array([3, 1, 1])"
   ]
  },
  {
   "cell_type": "code",
   "execution_count": 48,
   "metadata": {},
   "outputs": [],
   "source": [
    "def is_ok(a):\n",
    "    return np.all(np.abs(eigvals(a)) < 1)"
   ]
  },
  {
   "cell_type": "code",
   "execution_count": 49,
   "metadata": {},
   "outputs": [
    {
     "data": {
      "text/plain": [
       "True"
      ]
     },
     "execution_count": 49,
     "metadata": {},
     "output_type": "execute_result"
    }
   ],
   "source": [
    "a = np.eye(len(A)) - A\n",
    "f = F\n",
    "is_ok(a)"
   ]
  },
  {
   "cell_type": "code",
   "execution_count": 50,
   "metadata": {},
   "outputs": [],
   "source": [
    "def monte_carlo(a, f, m, N):\n",
    "    x = []\n",
    "    n = len(f)\n",
    "    h = np.eye(n)\n",
    "    pi = np.full((3,), 1 / n)\n",
    "    p = np.full((3,3), 1 / n)\n",
    "    Q = np.zeros((n, N+1))\n",
    "    ksi = np.zeros((n,m))\n",
    "    alpha = 0\n",
    "    \n",
    "    def prob_intervals(vector): \n",
    "        n = len(vector)\n",
    "        result = []\n",
    "        s = 0\n",
    "        result.append(0)\n",
    "        for i in range (1, n + 1):\n",
    "            result.append(s + vector[i - 1])\n",
    "            s = result[i]\n",
    "        return result\n",
    "\n",
    "    def get_state(alpha, intervals):\n",
    "        for i in range(1, len(intervals)):\n",
    "            if alpha < intervals[i]:\n",
    "                return i - 1\n",
    "            \n",
    "    i = []\n",
    "    for j in range(m):\n",
    "        alpha = random()\n",
    "        intervals = prob_intervals(pi)\n",
    "        state = get_state(alpha, intervals)\n",
    "        i.append(state)\n",
    "\n",
    "        for k in range(1, N + 1):\n",
    "            alpha = random()\n",
    "            i.append(get_state(alpha, intervals))\n",
    "\n",
    "        for o in range(n):\n",
    "            Q[o][0] = h[o][i[0]] / pi[i[0]] if pi[i[0]] > 0 else 0\n",
    "\n",
    "        for k in range(1, N + 1):\n",
    "            for o in range(n):\n",
    "                Q[o][k] = Q[o][k - 1] * a[i[k - 1]][i[k]] / p[i[k - 1]][i[k]] if p[i[k - 1]][i[k]] > 0 else 0\n",
    "\n",
    "        for k in range(N + 1):\n",
    "            for o in range(n):\n",
    "                ksi[o][j] = ksi[o][j] + Q[o][k] * f[i[k]]\n",
    "        i = []\n",
    "\n",
    "    for _ in range(n):\n",
    "        x.append(sum(ksi[_]) / m)\n",
    "    print(x)\n",
    "    return x"
   ]
  },
  {
   "cell_type": "code",
   "execution_count": 51,
   "metadata": {},
   "outputs": [
    {
     "data": {
      "text/plain": [
       "array([ 4.0513834 , -0.49407115,  0.2173913 ])"
      ]
     },
     "execution_count": 51,
     "metadata": {},
     "output_type": "execute_result"
    }
   ],
   "source": [
    "x_exact = solve(A, f)\n",
    "x_exact"
   ]
  },
  {
   "cell_type": "code",
   "execution_count": 55,
   "metadata": {},
   "outputs": [
    {
     "name": "stdout",
     "output_type": "stream",
     "text": [
      "[4.022057263368946, -0.5011947321063386, 0.16586877458372157]\n",
      "Wall time: 55.3 s\n"
     ]
    }
   ],
   "source": [
    "%%time\n",
    "x = monte_carlo(a, f, 5000, 1000)\n",
    "x"
   ]
  },
  {
   "cell_type": "code",
   "execution_count": 53,
   "metadata": {},
   "outputs": [
    {
     "data": {
      "text/plain": [
       "0.0025962265906487414"
      ]
     },
     "execution_count": 53,
     "metadata": {},
     "output_type": "execute_result"
    }
   ],
   "source": [
    "mse = np.mean((x - x_exact) ** 2)\n",
    "mse"
   ]
  },
  {
   "cell_type": "code",
   "execution_count": 56,
   "metadata": {},
   "outputs": [],
   "source": [
    "def plot(x, y, x_label):\n",
    "    plt.plot(x, y, label='actual')\n",
    "    plt.xscale('log')\n",
    "    plt.xlabel(x_label)\n",
    "    plt.ylabel('MSE')\n",
    "    plt.legend()\n",
    "    plt.show()"
   ]
  },
  {
   "cell_type": "code",
   "execution_count": 58,
   "metadata": {},
   "outputs": [
    {
     "name": "stdout",
     "output_type": "stream",
     "text": [
      "[4.022570980597372, -0.5099605972018737, 0.22820427536907423]\n",
      "[4.056097865526896, -0.44353117941265047, 0.15789243896561964]\n",
      "[4.102616408063204, -0.422030228304682, 0.18617325233895707]\n",
      "[4.126508423473943, -0.5391303443121098, 0.16257921837505337]\n",
      "[4.3051649443934625, -0.4057661023124774, 0.19845213858870178]\n",
      "[4.08811434807952, -0.5061425322153651, 0.2063818154967858]\n",
      "[4.053466599012406, -0.32618341056011957, 0.17950390887095147]\n",
      "[4.331953190575631, -0.7399639236254545, 0.24300590032268557]\n",
      "[4.143672406023603, -0.787502770241858, 0.1753504578051753]\n",
      "[3.8473135948205073, -0.4573051329859899, 0.1477798779461838]\n",
      "[4.008266016462051, -0.4229110101531046, 0.22395404704410665]\n",
      "[4.058723159166082, -0.5349863115633583, 0.09769600351349404]\n",
      "[3.9501215349688312, -0.48309145442814255, 0.20562989300619544]\n",
      "[4.193265605189623, -0.6096428252884468, 0.21127989244308162]\n",
      "Wall time: 32min 50s\n"
     ]
    }
   ],
   "source": [
    "%%time\n",
    "N_variations = [1000 * i for i in range(1, 8)]\n",
    "m_variations = [1000 * i for i in range(1, 8)]\n",
    "\n",
    "answers_m_fixed = [monte_carlo(a, f, 5000, 1000 * i) for i in range(1, 8)]\n",
    "answers_N_fixed = [monte_carlo(a, f, 1000 * i, 1000) for i in range(1, 8)]\n",
    "\n",
    "mse_m_fixed = [np.mean((i - x_exact) ** 2) for i in answers_m_fixed]\n",
    "mse_N_fixed = [np.mean((i - x_exact) ** 2) for i in answers_N_fixed]"
   ]
  },
  {
   "cell_type": "code",
   "execution_count": 59,
   "metadata": {},
   "outputs": [
    {
     "data": {
      "image/png": "[encoded data removed]",
      "text/plain": [
       "<Figure size 432x288 with 1 Axes>"
      ]
     },
     "metadata": {
      "needs_background": "light"
     },
     "output_type": "display_data"
    },
    {
     "data": {
      "image/png": "[encoded data removed]",
      "text/plain": [
       "<Figure size 432x288 with 1 Axes>"
      ]
     },
     "metadata": {
      "needs_background": "light"
     },
     "output_type": "display_data"
    }
   ],
   "source": [
    "plot(N_variations, mse_m_fixed, \"m\")\n",
    "plot(m_variations, mse_N_fixed, \"N\")"
   ]
  }
 ],
 "metadata": {
  "kernelspec": {
   "display_name": "Python 3",
   "language": "python",
   "name": "python3"
  },
  "language_info": {
   "codemirror_mode": {
    "name": "ipython",
    "version": 3
   },
   "file_extension": ".py",
   "mimetype": "text/x-python",
   "name": "python",
   "nbconvert_exporter": "python",
   "pygments_lexer": "ipython3",
   "version": "3.6.8"
  }
 },
 "nbformat": 4,
 "nbformat_minor": 2
}
