{
 "cells": [
  {
   "cell_type": "markdown",
   "metadata": {},
   "source": [
    "# 16 варыянт\n",
    "\n",
    "### Геаметрычнае – G(p), p = 0.5; \n",
    "\n",
    "### Бінаміяльнае – Bi(m,p), m = 6, p = 0.3333333."
   ]
  },
  {
   "cell_type": "code",
   "execution_count": 1,
   "metadata": {},
   "outputs": [],
   "source": [
    "import numpy as np\n",
    "from numpy import random, vectorize\n",
    "from matplotlib import pylab as plt\n",
    "from scipy import special, stats\n",
    "import math"
   ]
  },
  {
   "cell_type": "code",
   "execution_count": 2,
   "metadata": {},
   "outputs": [],
   "source": [
    "def binomial(m: int, p: float, n: int):\n",
    "    for i in range(n):\n",
    "        s = 0\n",
    "        for j in range(m):\n",
    "            r = random.random()\n",
    "            s += int(r <= p)\n",
    "        yield s\n",
    "\n",
    "def geometric(p: float, n: int):\n",
    "    for i in range(n):\n",
    "        result = 0\n",
    "        while random.random() > p:\n",
    "            result += 1\n",
    "        yield result\n",
    "        \n",
    "def geometric2(p, n):\n",
    "    for i in range(n):\n",
    "        a = random.random()\n",
    "        x = abs(math.ceil(math.log2(a) / math.log2(1 - p)))\n",
    "        yield x - 1\n",
    "        \n",
    "def skewness(data):\n",
    "    return np.sum((data - np.mean(data)) ** 3) / len(data) / (np.std(data) ** 3)\n",
    "\n",
    "def kurtosis(data):\n",
    "    return np.sum((data - np.mean(data)) ** 4) / len(data) / (np.std(data) ** 4) - 3\n",
    "        \n",
    "@vectorize\n",
    "def geom_th(x, p=0.5):\n",
    "    return p * (1-p) ** x\n",
    "\n",
    "def geom_th_cum(x, p=0.5):\n",
    "    return np.cumsum(geom_th(x, p))\n",
    "\n",
    "@vectorize\n",
    "def bin_th(x, p=0.5, m=6):\n",
    "    return special.binom(m, x) * p ** x * (1 - p) ** (m - x)\n",
    "\n",
    "def bin_th_cum(x, p=0.5, m=6):\n",
    "    return np.cumsum(bin_th(x, p, m))\n",
    "\n",
    "def prob_hist(data, theor, x, title=''):\n",
    "    m = np.max(data)\n",
    "    plt.hist(data, density=True, bins=np.arange(m))\n",
    "    plt.bar(x, theor(x), color='y', width=0.5)\n",
    "    plt.title(title)\n",
    "    plt.show()\n",
    "    \n",
    "def prob_f_hist(data, theor, title=''):\n",
    "    s, bins = np.histogram(data, bins=np.arange(0, np.max(data)), density=True)\n",
    "    cumsum = np.cumsum(s)\n",
    "    bins = bins[:-1]\n",
    "    plt.bar(bins + 0.5, cumsum, width=0.8)\n",
    "    plt.bar(bins + 0.5, theor(bins), color='y', width=0.4)\n",
    "    plt.title(title)\n",
    "    plt.show()"
   ]
  },
  {
   "cell_type": "code",
   "execution_count": 3,
   "metadata": {},
   "outputs": [],
   "source": [
    "p_g = 0.5\n",
    "p_b = 1 / 3\n",
    "m = 6\n",
    "n = 10 ** 3\n",
    "\n",
    "def geom_th_current(x):\n",
    "    return geom_th(x - 0.5, p_g)\n",
    "\n",
    "def bin_th_current(x):\n",
    "    return bin_th(x - 0.5, p_b, m)\n",
    "\n",
    "def geom_th_cum_current(x):\n",
    "    return geom_th_cum(x, p_g)\n",
    "\n",
    "def bin_th_cum_current(x):\n",
    "    return bin_th_cum(x, p_b, m)"
   ]
  },
  {
   "cell_type": "code",
   "execution_count": 4,
   "metadata": {},
   "outputs": [],
   "source": [
    "geom = np.fromiter((v for v in geometric(p_g, n)), np.int)"
   ]
  },
  {
   "cell_type": "code",
   "execution_count": 5,
   "metadata": {},
   "outputs": [
    {
     "data": {
      "image/png": "[encoded data removed]",
      "text/plain": [
       "<Figure size 432x288 with 1 Axes>"
      ]
     },
     "metadata": {
      "needs_background": "light"
     },
     "output_type": "display_data"
    },
    {
     "data": {
      "image/png": "[encoded data removed]",
      "text/plain": [
       "<Figure size 432x288 with 1 Axes>"
      ]
     },
     "metadata": {
      "needs_background": "light"
     },
     "output_type": "display_data"
    },
    {
     "name": "stdout",
     "output_type": "stream",
     "text": [
      "Theoretical mean: 1.0\n",
      "Experimantal mean: 1.012\n",
      "Theoretical dispersion: 2.0\n",
      "Experimantal dispersion: 2.0618559999999997\n",
      "Theoretical skewness: 2.1213203435596424\n",
      "Experimantal skewness: 2.123103127879846\n",
      "Theoretical kurtosis: 6.5\n",
      "Experimantal kurtosis: 5.989003240218652\n"
     ]
    }
   ],
   "source": [
    "prob_hist(geom, geom_th_current, np.arange(0, np.max(geom) + 1) + 0.5, title=f'Geometric p={p_g}, probability')\n",
    "prob_f_hist(geom, geom_th_cum_current, title=f'Geometric p={p_g}, cumulative')\n",
    "print(f'Theoretical mean: {(1-p_g)/p_g}')\n",
    "print(f'Experimantal mean: {np.mean(geom)}')\n",
    "print(f'Theoretical dispersion: {(1-p_g)/(p_g**2)}')\n",
    "print(f'Experimantal dispersion: {np.std(geom)**2}')\n",
    "print(f'Theoretical skewness: {(2-p_g)/(1-p_g)**0.5}')\n",
    "print(f'Experimantal skewness: {skewness(geom)}')\n",
    "print(f'Theoretical kurtosis: {6+p_g**2/(1-p_g)}')\n",
    "print(f'Experimantal kurtosis: {kurtosis(geom)}')"
   ]
  },
  {
   "cell_type": "code",
   "execution_count": 6,
   "metadata": {},
   "outputs": [],
   "source": [
    "geom2 = np.fromiter((v for v in geometric2(p_g, n)), np.int)"
   ]
  },
  {
   "cell_type": "code",
   "execution_count": 7,
   "metadata": {},
   "outputs": [
    {
     "data": {
      "image/png": "[encoded data removed]",
      "text/plain": [
       "<Figure size 432x288 with 1 Axes>"
      ]
     },
     "metadata": {
      "needs_background": "light"
     },
     "output_type": "display_data"
    },
    {
     "data": {
      "image/png": "[encoded data removed]",
      "text/plain": [
       "<Figure size 432x288 with 1 Axes>"
      ]
     },
     "metadata": {
      "needs_background": "light"
     },
     "output_type": "display_data"
    },
    {
     "name": "stdout",
     "output_type": "stream",
     "text": [
      "Theoretical mean: 1.0\n",
      "Experimantal mean: 0.983\n",
      "Theoretical dispersion: 2.0\n",
      "Experimantal dispersion: 2.0147110000000006\n",
      "Theoretical skewness: 2.1213203435596424\n",
      "Experimantal skewness: 2.1973544592276526\n",
      "Theoretical kurtosis: 6.5\n",
      "Experimantal kurtosis: 6.662039428828541\n"
     ]
    }
   ],
   "source": [
    "prob_hist(geom2, geom_th_current, np.arange(0, np.max(geom2) + 1) + 0.5, title=f'Geometric2 p={p_g}, probability')\n",
    "prob_f_hist(geom2, geom_th_cum_current, title=f'Geometric2 p={p_g}, cumulative')\n",
    "print(f'Theoretical mean: {(1-p_g)/p_g}')\n",
    "print(f'Experimantal mean: {np.mean(geom2)}')\n",
    "print(f'Theoretical dispersion: {(1-p_g)/(p_g**2)}')\n",
    "print(f'Experimantal dispersion: {np.std(geom2)**2}')\n",
    "print(f'Theoretical skewness: {(2-p_g)/(1-p_g)**0.5}')\n",
    "print(f'Experimantal skewness: {skewness(geom2)}')\n",
    "print(f'Theoretical kurtosis: {6+p_g**2/(1-p_g)}')\n",
    "print(f'Experimantal kurtosis: {kurtosis(geom2)}')"
   ]
  },
  {
   "cell_type": "code",
   "execution_count": 8,
   "metadata": {},
   "outputs": [],
   "source": [
    "binom = np.fromiter((v for v in binomial(m, p_b, n)), np.int)"
   ]
  },
  {
   "cell_type": "code",
   "execution_count": 9,
   "metadata": {},
   "outputs": [
    {
     "data": {
      "image/png": "[encoded data removed]",
      "text/plain": [
       "<Figure size 432x288 with 1 Axes>"
      ]
     },
     "metadata": {
      "needs_background": "light"
     },
     "output_type": "display_data"
    },
    {
     "data": {
      "image/png": "[encoded data removed]",
      "text/plain": [
       "<Figure size 432x288 with 1 Axes>"
      ]
     },
     "metadata": {
      "needs_background": "light"
     },
     "output_type": "display_data"
    },
    {
     "name": "stdout",
     "output_type": "stream",
     "text": [
      "Theoretical mean: 2.0\n",
      "Experimantal mean: 1.981\n",
      "Theoretical dispersion: 1.3333333333333335\n",
      "Experimantal dispersion: 1.236639\n",
      "Theoretical skewness: 0.2886751345948129\n",
      "Experimantal skewness: 0.17269930043889573\n",
      "Theoretical kurtosis: -0.25000000000000006\n",
      "Experimantal kurtosis: -0.3841406598000896\n"
     ]
    }
   ],
   "source": [
    "prob_hist(binom, bin_th_current, np.arange(0, np.max(binom) + 1) + 0.5, title=f'Binomial m={m} p={p_b}, probability')\n",
    "prob_f_hist(binom, bin_th_cum_current, title=f'Binomial m={m} p={p_g}, cumulative')\n",
    "print(f'Theoretical mean: {p_b*m}')\n",
    "print(f'Experimantal mean: {np.mean(binom)}')\n",
    "print(f'Theoretical dispersion: {p_b*(1-p_b)*m}')\n",
    "print(f'Experimantal dispersion: {np.std(binom)**2}')\n",
    "print(f'Theoretical skewness: {(1-2*p_b)/(m*(1-p_b)*p_b)**0.5}')\n",
    "print(f'Experimantal skewness: {skewness(binom)}')\n",
    "print(f'Theoretical kurtosis: {(1-6*p_b*(1-p_b))/m/p_b/(1-p_b)}')\n",
    "print(f'Experimantal kurtosis: {kurtosis(binom)}')"
   ]
  },
  {
   "cell_type": "code",
   "execution_count": null,
   "metadata": {},
   "outputs": [],
   "source": []
  }
 ],
 "metadata": {
  "kernelspec": {
   "display_name": "Python 3",
   "language": "python",
   "name": "python3"
  },
  "language_info": {
   "codemirror_mode": {
    "name": "ipython",
    "version": 3
   },
   "file_extension": ".py",
   "mimetype": "text/x-python",
   "name": "python",
   "nbconvert_exporter": "python",
   "pygments_lexer": "ipython3",
   "version": "3.6.8"
  }
 },
 "nbformat": 4,
 "nbformat_minor": 2
}
